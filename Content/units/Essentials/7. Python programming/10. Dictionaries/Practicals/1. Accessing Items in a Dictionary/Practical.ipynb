{
  "cells": [
    {
      "cell_type": "markdown",
      "id": "5d71a15b",
      "metadata": {
        "id": "5d71a15b"
      },
      "source": [
        "# Accessing Items in a Dictionary"
      ]
    },
    {
      "cell_type": "code",
      "execution_count": null,
      "id": "9883e2eb",
      "metadata": {
        "id": "9883e2eb"
      },
      "outputs": [],
      "source": [
        "#@title ### Run the following cell to download the necessary files for this practical { display-mode: \"form\" }\n",
        "#@markdown Don't worry about what's in this collapsed cell\n",
        "\n",
        "print('Downloading the marking system')\n",
        "!wget https://s3-eu-west-1.amazonaws.com/aicore-portal-public-prod-307050600709/practical_files/28095a28-576f-4683-9d9a-886d43d3f583/marking_system.py -q -O marking_system.py\n",
        "import marking_system\n",
        "import importlib\n",
        "importlib.reload(marking_system)\n",
        "import sys\n",
        "ipython = get_ipython()\n",
        "def hide_traceback(exc_tuple=None, filename=None, tb_offset=None, exception_only=False, running_compiled_code=False):\n",
        "    etype, value, tb = sys.exc_info()\n",
        "    value.__cause__ = None  # suppress chained exceptions\n",
        "    return ipython._showtraceback(etype, \"❌ \" + f\"\u001b[91m{value}\", ipython.InteractiveTB.get_exception_only(etype, \"❌ \" + f\"\u001b[91m{value}\"))\n",
        "ipython.showtraceback = hide_traceback\n"
      ]
    },
    {
      "cell_type": "markdown",
      "id": "9a0ae94f",
      "metadata": {
        "id": "9a0ae94f"
      },
      "source": [
        "### 1. Create a variable called `my_dict` and assign it the value `{\"key_1\": 1, \"key_2\": 2}`"
      ]
    },
    {
      "cell_type": "code",
      "execution_count": 1,
      "id": "52f97b75",
      "metadata": {
        "id": "52f97b75",
        "outputId": "e58edb74-8fdc-4680-ea84-9cf502f8ffdd",
        "colab": {
          "base_uri": "https://localhost:8080/"
        }
      },
      "outputs": [
        {
          "output_type": "stream",
          "name": "stdout",
          "text": [
            "my_dict: {'key_1': 1, 'key_2': 2}\n"
          ]
        }
      ],
      "source": [
        "# TODO - Create the variable called my_dict\n",
        "# TODO - Create the variable called my_dict\n",
        "my_dict = {\"key_1\": 1, \"key_2\": 2}\n",
        "\n",
        "# Displaying the dictionary\n",
        "print(\"my_dict:\", my_dict)\n"
      ]
    },
    {
      "cell_type": "code",
      "execution_count": null,
      "id": "ac1afcdf",
      "metadata": {
        "id": "ac1afcdf"
      },
      "outputs": [],
      "source": [
        "#@title #### Run this cell to check your answer { display-mode: \"form\", run: \"auto\" }\n",
        "\n",
        "assert \"my_dict\" in globals(), \"The variable 'my_dict' does not exist. Please, create it.\"\n",
        "marking_system.check_step_1(my_dict)\n"
      ]
    },
    {
      "cell_type": "markdown",
      "id": "2b0f13b2",
      "metadata": {
        "id": "2b0f13b2"
      },
      "source": [
        "### 2. Assign the values corresponding to the key `\"key_1\"` and `\"key_2\"` to variables.\n",
        "\n",
        "Create 2 variables called `key_1` and `key_2` and assign them the values corresponding to the keys `\"key_1\"` and `\"key_2\"`."
      ]
    },
    {
      "cell_type": "code",
      "execution_count": 2,
      "id": "d1994fcc",
      "metadata": {
        "id": "d1994fcc",
        "outputId": "12022b42-57a4-4c97-cbe6-c9530ad7a586",
        "colab": {
          "base_uri": "https://localhost:8080/"
        }
      },
      "outputs": [
        {
          "output_type": "stream",
          "name": "stdout",
          "text": [
            "Value of key_1: 1\n",
            "Value of key_2: 2\n"
          ]
        }
      ],
      "source": [
        "# TODO - Access the value of the key \"key_1\" in the dictionary my_dict\n",
        "# TODO - Access the value of the key \"key_2\" in the dictionary my_dict\n",
        "# TODO - Access the value of the key \"key_1\" in the dictionary my_dict\n",
        "value_key_1 = my_dict[\"key_1\"]\n",
        "print(\"Value of key_1:\", value_key_1)\n",
        "\n",
        "# TODO - Access the value of the key \"key_2\" in the dictionary my_dict\n",
        "value_key_2 = my_dict[\"key_2\"]\n",
        "print(\"Value of key_2:\", value_key_2)\n"
      ]
    },
    {
      "cell_type": "markdown",
      "id": "901004fa",
      "metadata": {
        "id": "901004fa"
      },
      "source": [
        "### 3. What happens if you try to access the value corresponding to the key `\"key_3\"`?"
      ]
    },
    {
      "cell_type": "code",
      "execution_count": 3,
      "id": "541ebb7e",
      "metadata": {
        "id": "541ebb7e",
        "outputId": "220ce23e-6430-4927-db7d-2aba086cbe3d",
        "colab": {
          "base_uri": "https://localhost:8080/"
        }
      },
      "outputs": [
        {
          "output_type": "stream",
          "name": "stdout",
          "text": [
            "KeyError: 'key_3' - The key 'key_3' does not exist in the dictionary.\n"
          ]
        }
      ],
      "source": [
        "# TODO - Try to access a key that does not exist in the dictionary\n",
        "# TODO - Try to access a key that does not exist in the dictionary\n",
        "try:\n",
        "    value_key_3 = my_dict[\"key_3\"]  # This key does not exist\n",
        "    print(\"Value of key_3:\", value_key_3)\n",
        "except KeyError as e:\n",
        "    print(f\"KeyError: {e} - The key 'key_3' does not exist in the dictionary.\")\n"
      ]
    },
    {
      "cell_type": "code",
      "execution_count": null,
      "id": "4260947c",
      "metadata": {
        "id": "4260947c"
      },
      "outputs": [],
      "source": [
        "#@title #### Enter your solution here { display-mode: \"form\", run: \"auto\" }\n",
        "\n",
        "assert \"my_dict\" in globals(), \"The variable 'my_dict' does not exist. Please, create it.\"\n",
        "#@markdown What happens when you try to access the value of \"key_3\"?\n",
        "ans = \"\" #@param [\"KeyError\", \"None\", \"Nothing happens\", \"The program crashes\", \"\"]\n",
        "marking_system.check_step_3(my_dict, ans)\n"
      ]
    },
    {
      "cell_type": "markdown",
      "id": "661b3d7b",
      "metadata": {
        "id": "661b3d7b"
      },
      "source": [
        "### 4. Get all the keys of `my_dict` and assign them to a variable called `my_keys`.\n",
        "\n",
        "_Hint: Use the `keys()` method_"
      ]
    },
    {
      "cell_type": "code",
      "execution_count": 4,
      "id": "b47c2540",
      "metadata": {
        "id": "b47c2540",
        "outputId": "ded10956-ff9d-4aa3-c462-c91d77ffd686",
        "colab": {
          "base_uri": "https://localhost:8080/"
        }
      },
      "outputs": [
        {
          "output_type": "stream",
          "name": "stdout",
          "text": [
            "Keys of my_dict: dict_keys(['key_1', 'key_2'])\n"
          ]
        }
      ],
      "source": [
        "# TODO - Get the keys of the dictionary my_dict and store them in the variable my_keys\n",
        "# TODO - Get the keys of the dictionary my_dict and store them in the variable my_keys\n",
        "my_keys = my_dict.keys()\n",
        "\n",
        "# Displaying the keys\n",
        "print(\"Keys of my_dict:\", my_keys)\n"
      ]
    },
    {
      "cell_type": "code",
      "execution_count": null,
      "id": "7e0b1d92",
      "metadata": {
        "id": "7e0b1d92"
      },
      "outputs": [],
      "source": [
        "expected_keys = my_dict.keys()\n",
        "\n",
        "assert my_keys == expected_keys, \"The variable 'my_keys' does not contain the keys of the dictionary 'my_dict'.\"\n"
      ]
    },
    {
      "cell_type": "code",
      "execution_count": null,
      "id": "5a0691b4",
      "metadata": {
        "id": "5a0691b4"
      },
      "outputs": [],
      "source": [
        "#@title #### Run this cell to check your answer { display-mode: \"form\", run: \"auto\" }\n",
        "\n",
        "assert \"my_dict\" in globals(), \"The variable 'my_dict' does not exist. Please, create it.\"\n",
        "assert \"my_keys\" in globals(), \"The variable 'my_keys' does not exist. Please, create it.\"\n",
        "marking_system.check_step_4(my_dict, my_keys)\n"
      ]
    },
    {
      "cell_type": "markdown",
      "id": "2db853a4",
      "metadata": {
        "id": "2db853a4"
      },
      "source": [
        "### 5. Get all the values of `my_dict` and assign them to a variable called `my_values`.\n",
        "\n",
        "_Hint: Use the `values()` method_"
      ]
    },
    {
      "cell_type": "code",
      "execution_count": 5,
      "id": "7446b3a2",
      "metadata": {
        "id": "7446b3a2",
        "outputId": "f3246b0e-5fc5-4666-eefa-6edd6bcf62aa",
        "colab": {
          "base_uri": "https://localhost:8080/"
        }
      },
      "outputs": [
        {
          "output_type": "stream",
          "name": "stdout",
          "text": [
            "Values of my_dict: dict_values([1, 2])\n"
          ]
        }
      ],
      "source": [
        "# TODO - Get the values of the dictionary my_dict and store them in the variable my_values\n",
        "# TODO - Get the values of the dictionary my_dict and store them in the variable my_values\n",
        "my_values = my_dict.values()\n",
        "\n",
        "# Displaying the values\n",
        "print(\"Values of my_dict:\", my_values)\n"
      ]
    },
    {
      "cell_type": "code",
      "execution_count": null,
      "id": "763954e5",
      "metadata": {
        "id": "763954e5"
      },
      "outputs": [],
      "source": [
        "#@title #### Run this cell to check your answer { display-mode: \"form\", run: \"auto\" }\n",
        "\n",
        "assert \"my_dict\" in globals(), \"The variable 'my_dict' does not exist. Please, create it.\"\n",
        "assert \"my_values\" in globals(), \"The variable 'my_values' does not exist. Please, create it.\"\n",
        "marking_system.check_step_5(my_dict, my_values)\n"
      ]
    },
    {
      "cell_type": "markdown",
      "id": "f00f09b3",
      "metadata": {
        "id": "f00f09b3"
      },
      "source": [
        "### 6. Print the items of `my_dict` and assign it to a variable called `my_items`.\n",
        "\n",
        "_Hint: Use the `items()` method_\n",
        "\n",
        "Print `my_items` and see what you get."
      ]
    },
    {
      "cell_type": "code",
      "execution_count": 6,
      "id": "71a0351e",
      "metadata": {
        "id": "71a0351e",
        "outputId": "dacaf7b5-714f-4e41-9d35-c9bb5fa44e0e",
        "colab": {
          "base_uri": "https://localhost:8080/"
        }
      },
      "outputs": [
        {
          "output_type": "stream",
          "name": "stdout",
          "text": [
            "Items of my_dict: dict_items([('key_1', 1), ('key_2', 2)])\n"
          ]
        }
      ],
      "source": [
        "# TODO - Get the items of the dictionary my_dict and store them in the variable my_items\n",
        "# TODO - Print the variable my_items\n",
        "# TODO - Get the items of the dictionary my_dict and store them in the variable my_items\n",
        "my_items = my_dict.items()\n",
        "\n",
        "# TODO - Print the variable my_items\n",
        "print(\"Items of my_dict:\", my_items)\n"
      ]
    },
    {
      "cell_type": "code",
      "execution_count": null,
      "id": "2fbdac0c",
      "metadata": {
        "id": "2fbdac0c"
      },
      "outputs": [],
      "source": [
        "#@title #### Run this cell to check your answer { display-mode: \"form\", run: \"auto\" }\n",
        "\n",
        "assert \"my_dict\" in globals(), \"The variable 'my_dict' does not exist. Please, create it.\"\n",
        "assert \"my_items\" in globals(), \"The variable 'my_items' does not exist. Please, create it.\"\n",
        "#@markdown The type of my_items is a dict_items. You can convert it to a list by using the list() function. Inside the list, what is the type of each item?\n",
        "ans = \"\" #@param [\"list\", \"tuple\", \"dict\", \"int\", \"\"]\n",
        "marking_system.check_step_6(my_dict, my_items, ans)\n"
      ]
    }
  ],
  "metadata": {
    "kernelspec": {
      "display_name": "content-projects_new",
      "language": "python",
      "name": "python3"
    },
    "language_info": {
      "codemirror_mode": {
        "name": "ipython",
        "version": 3
      },
      "file_extension": ".py",
      "mimetype": "text/x-python",
      "name": "python",
      "nbconvert_exporter": "python",
      "pygments_lexer": "ipython3",
      "version": "3.10.8"
    },
    "vscode": {
      "interpreter": {
        "hash": "4b961f8166aad6ccb4cf65d0f9c742ef9c6c23ffe83ad932438cd83ed96aebaf"
      }
    },
    "colab": {
      "provenance": []
    }
  },
  "nbformat": 4,
  "nbformat_minor": 5
}